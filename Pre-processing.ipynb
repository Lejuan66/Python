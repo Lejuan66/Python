{
 "cells": [
  {
   "cell_type": "code",
   "execution_count": 44,
   "metadata": {},
   "outputs": [],
   "source": [
    "import pandas as pd\n",
    "import numpy as np"
   ]
  },
  {
   "cell_type": "code",
   "execution_count": 45,
   "metadata": {},
   "outputs": [],
   "source": [
    "data_product_sales = pd.read_csv(\"product_sales.csv\", sep=\"\\t\")\n",
    "\n",
    "data_travelers = pd.read_csv(\"travelers.csv\", sep=\"\\t\")\n",
    "\n",
    "data_trips = pd.read_csv(\"trips.csv\", sep=\"\\t\")"
   ]
  },
  {
   "cell_type": "code",
   "execution_count": 46,
   "metadata": {},
   "outputs": [
    {
     "data": {
      "text/plain": [
       "20000"
      ]
     },
     "execution_count": 46,
     "metadata": {},
     "output_type": "execute_result"
    }
   ],
   "source": [
    "len(set(data_trips[\"reservation_id\"])) #means that reservation ids are not duplicated"
   ]
  },
  {
   "cell_type": "code",
   "execution_count": 47,
   "metadata": {},
   "outputs": [],
   "source": [
    "tmp_sheet = pd.concat([data_trips.set_index('traveler_id'),data_travelers.set_index('id')], axis=1, join='inner')"
   ]
  },
  {
   "cell_type": "code",
   "execution_count": 48,
   "metadata": {},
   "outputs": [],
   "source": [
    "tmp_sheet[\"traveler_id\"] = tmp_sheet.index"
   ]
  },
  {
   "cell_type": "code",
   "execution_count": 49,
   "metadata": {},
   "outputs": [],
   "source": [
    "X_raw = tmp_sheet.reset_index(drop=True)"
   ]
  },
  {
   "cell_type": "code",
   "execution_count": 50,
   "metadata": {},
   "outputs": [
    {
     "data": {
      "text/plain": [
       "['reservation_id',\n",
       " 'reservation_date',\n",
       " 'package_type',\n",
       " 'departure_date',\n",
       " 'departure_code',\n",
       " 'arrival_code',\n",
       " 'arrival_country',\n",
       " 'return_date',\n",
       " 'carrier_id',\n",
       " 'no_of_adults',\n",
       " 'no_of_kids',\n",
       " 'birthdate',\n",
       " 'gender_id',\n",
       " 'country_id',\n",
       " 'traveler_id']"
      ]
     },
     "execution_count": 50,
     "metadata": {},
     "output_type": "execute_result"
    }
   ],
   "source": [
    "list(X_raw)"
   ]
  },
  {
   "cell_type": "code",
   "execution_count": 51,
   "metadata": {},
   "outputs": [],
   "source": [
    "features = [\n",
    "     'reservation_date',\n",
    "     'package_type',\n",
    "     'departure_date',\n",
    "     'departure_code',\n",
    "     'arrival_code',\n",
    "     'arrival_country',\n",
    "     'return_date',\n",
    "     'carrier_id',\n",
    "     'no_of_adults',\n",
    "     'no_of_kids',\n",
    "     'birthdate',\n",
    "     'gender_id',\n",
    "     'country_id',\n",
    "]"
   ]
  },
  {
   "cell_type": "code",
   "execution_count": 52,
   "metadata": {},
   "outputs": [],
   "source": [
    "X = X_raw[features]"
   ]
  },
  {
   "cell_type": "code",
   "execution_count": 53,
   "metadata": {},
   "outputs": [],
   "source": [
    "# merge product_sales with X_raw, where the samples which did not buy the reservation are set as NaN\n",
    "tmp_sheet_1 = pd.concat([X_raw.set_index('reservation_id'), data_product_sales.set_index('reservation_id')], axis=1, sort=False) "
   ]
  },
  {
   "cell_type": "code",
   "execution_count": 54,
   "metadata": {},
   "outputs": [],
   "source": [
    "tmp_sheet_1[\"reservation_id\"] = tmp_sheet_1.index"
   ]
  },
  {
   "cell_type": "code",
   "execution_count": 55,
   "metadata": {},
   "outputs": [],
   "source": [
    "tmp_sheet_1 = tmp_sheet_1.reset_index(drop=True)"
   ]
  },
  {
   "cell_type": "code",
   "execution_count": 56,
   "metadata": {},
   "outputs": [],
   "source": [
    "# merge product_sales with X_raw, where the samples which did not buy the reservation are set as NaN\n",
    "\n",
    "tmp_sheet_2 = pd.merge(X_raw, data_product_sales, on='reservation_id', how='outer') "
   ]
  },
  {
   "cell_type": "code",
   "execution_count": 57,
   "metadata": {},
   "outputs": [],
   "source": [
    "tmp_sheet_1 = tmp_sheet_1.reindex(sorted(tmp_sheet_1.columns), axis=1)"
   ]
  },
  {
   "cell_type": "code",
   "execution_count": 58,
   "metadata": {},
   "outputs": [],
   "source": [
    "tmp_sheet_2 = tmp_sheet_2.reindex(sorted(tmp_sheet_2.columns), axis=1)"
   ]
  },
  {
   "cell_type": "code",
   "execution_count": 59,
   "metadata": {},
   "outputs": [
    {
     "data": {
      "text/plain": [
       "True"
      ]
     },
     "execution_count": 59,
     "metadata": {},
     "output_type": "execute_result"
    }
   ],
   "source": [
    "tmp_sheet_1.sort_values(by='reservation_id').equals(tmp_sheet_2.sort_values(by='reservation_id'))"
   ]
  },
  {
   "cell_type": "code",
   "execution_count": 60,
   "metadata": {},
   "outputs": [],
   "source": [
    "# create a dataframe for testing\n",
    "\n",
    "df1 = pd.DataFrame(\n",
    "{\n",
    "    'c1': [1,2],\n",
    "    'c2': [2,3]\n",
    "}\n",
    ")"
   ]
  },
  {
   "cell_type": "code",
   "execution_count": 61,
   "metadata": {},
   "outputs": [],
   "source": [
    "tmp_sheet_1 = tmp_sheet_1.fillna(value=0)"
   ]
  },
  {
   "cell_type": "code",
   "execution_count": 62,
   "metadata": {},
   "outputs": [],
   "source": [
    "X_raw = tmp_sheet_1"
   ]
  },
  {
   "cell_type": "code",
   "execution_count": 63,
   "metadata": {},
   "outputs": [],
   "source": [
    "y = X_raw[\"bought_product\"]"
   ]
  },
  {
   "cell_type": "code",
   "execution_count": 64,
   "metadata": {},
   "outputs": [],
   "source": [
    "X = X_raw"
   ]
  },
  {
   "cell_type": "code",
   "execution_count": 65,
   "metadata": {},
   "outputs": [],
   "source": [
    "# create a feature called 'duration'\n",
    "\n",
    "pd.options.mode.chained_assignment = None  # default='warn'\n",
    "\n",
    "X['departure_date'] = pd.to_datetime(X['departure_date'])\n",
    "\n",
    "X['return_date'] = pd.to_datetime(X['return_date'])\n",
    "\n",
    "X['duration'] = (X['return_date'] - X['departure_date']).dt.days"
   ]
  },
  {
   "cell_type": "code",
   "execution_count": 66,
   "metadata": {},
   "outputs": [],
   "source": [
    "# create another feature called 'age'\n",
    "import datetime "
   ]
  },
  {
   "cell_type": "code",
   "execution_count": 67,
   "metadata": {},
   "outputs": [],
   "source": [
    "X['age'] = ((pd.Timestamp('2019-01-01 00:00:00') - pd.to_datetime(X[\"birthdate\"]))/365.0).dt.days\n",
    "X['departure_month'] = pd.to_datetime(X_raw['departure_date']).dt.month\n",
    "X['return_month'] = pd.to_datetime(X_raw['return_date']).dt.month"
   ]
  },
  {
   "cell_type": "code",
   "execution_count": 68,
   "metadata": {},
   "outputs": [
    {
     "data": {
      "text/plain": [
       "<matplotlib.axes._subplots.AxesSubplot at 0x20b084a82b0>"
      ]
     },
     "execution_count": 68,
     "metadata": {},
     "output_type": "execute_result"
    },
    {
     "data": {
      "image/png": "[encoded data removed]",
      "text/plain": [
       "<Figure size 432x288 with 1 Axes>"
      ]
     },
     "metadata": {
      "needs_background": "light"
     },
     "output_type": "display_data"
    }
   ],
   "source": [
    "X['age'].plot.hist(bins=100)"
   ]
  },
  {
   "cell_type": "code",
   "execution_count": 69,
   "metadata": {},
   "outputs": [
    {
     "data": {
      "text/plain": [
       "<matplotlib.axes._subplots.AxesSubplot at 0x20b044a3940>"
      ]
     },
     "execution_count": 69,
     "metadata": {},
     "output_type": "execute_result"
    },
    {
     "data": {
      "image/png": "[encoded data removed]",
      "text/plain": [
       "<Figure size 432x288 with 1 Axes>"
      ]
     },
     "metadata": {
      "needs_background": "light"
     },
     "output_type": "display_data"
    }
   ],
   "source": [
    "X.loc[X['bought_product']==1,['age']].plot.hist(bins=90)"
   ]
  },
  {
   "cell_type": "code",
   "execution_count": 70,
   "metadata": {},
   "outputs": [
    {
     "data": {
      "text/plain": [
       "0"
      ]
     },
     "execution_count": 70,
     "metadata": {},
     "output_type": "execute_result"
    }
   ],
   "source": [
    "len(X.loc[(X['age']==2) & (X['bought_product']==1)])"
   ]
  },
  {
   "cell_type": "code",
   "execution_count": 71,
   "metadata": {},
   "outputs": [],
   "source": [
    "features = list(X)"
   ]
  },
  {
   "cell_type": "code",
   "execution_count": 72,
   "metadata": {},
   "outputs": [],
   "source": [
    "label_features = [\n",
    "    'package_type',\n",
    "    'departure_code',\n",
    "    'arrival_code',\n",
    "    'arrival_country',\n",
    "    'carrier_id',\n",
    "    'gender_id',\n",
    "    'country_id',\n",
    "    'departure_month',\n",
    "    'return_month',\n",
    "    'no_of_adults',\n",
    "    'no_of_kids',\n",
    "    'age',\n",
    "    'duration',\n",
    "]"
   ]
  },
  {
   "cell_type": "code",
   "execution_count": 73,
   "metadata": {},
   "outputs": [],
   "source": [
    "numerical_features = [\n",
    "\n",
    "]"
   ]
  },
  {
   "cell_type": "code",
   "execution_count": 74,
   "metadata": {},
   "outputs": [],
   "source": [
    "selected_features = label_features + numerical_features"
   ]
  },
  {
   "cell_type": "code",
   "execution_count": 75,
   "metadata": {},
   "outputs": [],
   "source": [
    "X = X[selected_features]"
   ]
  },
  {
   "cell_type": "code",
   "execution_count": 76,
   "metadata": {},
   "outputs": [],
   "source": [
    "# from sklearn.preprocessing import StandardScaler\n",
    "# scaler = StandardScaler()\n",
    "# scaler = scaler.fit(X[numerical_features])\n",
    "# X[numerical_features] = scaler.transform(X[numerical_features])"
   ]
  },
  {
   "cell_type": "code",
   "execution_count": 77,
   "metadata": {},
   "outputs": [],
   "source": [
    "# label encoding \n",
    "from sklearn import preprocessing \n",
    "\n",
    "le = preprocessing.LabelEncoder()\n",
    "\n",
    "for name in label_features:\n",
    "    le = preprocessing.LabelEncoder()\n",
    "    le = le.fit(X[name])\n",
    "    X[name] = le.transform(X[name])"
   ]
  },
  {
   "cell_type": "code",
   "execution_count": 78,
   "metadata": {},
   "outputs": [],
   "source": [
    "# # dummy encoding\n",
    "# for category_name in label_features:\n",
    "#     X[category_name] = X[category_name].astype('category')\n",
    "\n",
    "# dummy_columns = pd.get_dummies(X[label_features])\n",
    "\n",
    "# X = X.drop(label_features, axis=1) # axis=1 means that columns are dropped instead of samples\n",
    "\n",
    "# X = pd.concat([X,dummy_columns], axis = 1) "
   ]
  },
  {
   "cell_type": "code",
   "execution_count": 79,
   "metadata": {},
   "outputs": [],
   "source": [
    "from sklearn.model_selection import train_test_split"
   ]
  },
  {
   "cell_type": "code",
   "execution_count": 80,
   "metadata": {},
   "outputs": [],
   "source": [
    "# test_features = selected_features\n",
    "# X = X[test_features]"
   ]
  },
  {
   "cell_type": "code",
   "execution_count": 81,
   "metadata": {},
   "outputs": [],
   "source": [
    "X_train, X_new, y_train, y_new = train_test_split(X, y, test_size = 0.2)"
   ]
  },
  {
   "cell_type": "code",
   "execution_count": 82,
   "metadata": {},
   "outputs": [
    {
     "data": {
      "text/plain": [
       "0.69225"
      ]
     },
     "execution_count": 82,
     "metadata": {},
     "output_type": "execute_result"
    }
   ],
   "source": [
    "from sklearn.ensemble import AdaBoostClassifier\n",
    "clf = AdaBoostClassifier(n_estimators = 100)\n",
    "clf = clf.fit(X_train, y_train)\n",
    "\n",
    "y_pred = clf.predict(X_new)\n",
    "\n",
    "from sklearn.metrics import accuracy_score\n",
    "\n",
    "accuracy_score(y_new, y_pred)"
   ]
  },
  {
   "cell_type": "code",
   "execution_count": 83,
   "metadata": {},
   "outputs": [
    {
     "data": {
      "text/html": [
       "<div>\n",
       "<style scoped>\n",
       "    .dataframe tbody tr th:only-of-type {\n",
       "        vertical-align: middle;\n",
       "    }\n",
       "\n",
       "    .dataframe tbody tr th {\n",
       "        vertical-align: top;\n",
       "    }\n",
       "\n",
       "    .dataframe thead th {\n",
       "        text-align: right;\n",
       "    }\n",
       "</style>\n",
       "<table border=\"1\" class=\"dataframe\">\n",
       "  <thead>\n",
       "    <tr style=\"text-align: right;\">\n",
       "      <th></th>\n",
       "      <th>feature</th>\n",
       "      <th>importance</th>\n",
       "    </tr>\n",
       "  </thead>\n",
       "  <tbody>\n",
       "    <tr>\n",
       "      <th>11</th>\n",
       "      <td>age</td>\n",
       "      <td>0.41</td>\n",
       "    </tr>\n",
       "    <tr>\n",
       "      <th>2</th>\n",
       "      <td>arrival_code</td>\n",
       "      <td>0.12</td>\n",
       "    </tr>\n",
       "    <tr>\n",
       "      <th>3</th>\n",
       "      <td>arrival_country</td>\n",
       "      <td>0.10</td>\n",
       "    </tr>\n",
       "    <tr>\n",
       "      <th>1</th>\n",
       "      <td>departure_code</td>\n",
       "      <td>0.09</td>\n",
       "    </tr>\n",
       "    <tr>\n",
       "      <th>8</th>\n",
       "      <td>return_month</td>\n",
       "      <td>0.05</td>\n",
       "    </tr>\n",
       "    <tr>\n",
       "      <th>12</th>\n",
       "      <td>duration</td>\n",
       "      <td>0.05</td>\n",
       "    </tr>\n",
       "    <tr>\n",
       "      <th>9</th>\n",
       "      <td>no_of_adults</td>\n",
       "      <td>0.04</td>\n",
       "    </tr>\n",
       "    <tr>\n",
       "      <th>10</th>\n",
       "      <td>no_of_kids</td>\n",
       "      <td>0.04</td>\n",
       "    </tr>\n",
       "    <tr>\n",
       "      <th>7</th>\n",
       "      <td>departure_month</td>\n",
       "      <td>0.03</td>\n",
       "    </tr>\n",
       "    <tr>\n",
       "      <th>0</th>\n",
       "      <td>package_type</td>\n",
       "      <td>0.02</td>\n",
       "    </tr>\n",
       "    <tr>\n",
       "      <th>4</th>\n",
       "      <td>carrier_id</td>\n",
       "      <td>0.02</td>\n",
       "    </tr>\n",
       "    <tr>\n",
       "      <th>6</th>\n",
       "      <td>country_id</td>\n",
       "      <td>0.02</td>\n",
       "    </tr>\n",
       "    <tr>\n",
       "      <th>5</th>\n",
       "      <td>gender_id</td>\n",
       "      <td>0.01</td>\n",
       "    </tr>\n",
       "  </tbody>\n",
       "</table>\n",
       "</div>"
      ],
      "text/plain": [
       "            feature  importance\n",
       "11              age        0.41\n",
       "2      arrival_code        0.12\n",
       "3   arrival_country        0.10\n",
       "1    departure_code        0.09\n",
       "8      return_month        0.05\n",
       "12         duration        0.05\n",
       "9      no_of_adults        0.04\n",
       "10       no_of_kids        0.04\n",
       "7   departure_month        0.03\n",
       "0      package_type        0.02\n",
       "4        carrier_id        0.02\n",
       "6        country_id        0.02\n",
       "5         gender_id        0.01"
      ]
     },
     "execution_count": 83,
     "metadata": {},
     "output_type": "execute_result"
    }
   ],
   "source": [
    "pd.DataFrame({\n",
    "    'feature': list(X_new),\n",
    "    'importance': clf.feature_importances_}).sort_values(by='importance',ascending=False)"
   ]
  },
  {
   "cell_type": "code",
   "execution_count": null,
   "metadata": {},
   "outputs": [],
   "source": [
    "encoding_features = list(X)\n",
    "\n",
    "import category_encoders as ce\n",
    "\n",
    "encoder = ce.BaseNEncoder(cols=encoding_features, base=8)\n",
    "\n",
    "X_train = X_train.reset_index(drop=True)\n",
    "y_train = y_train.reset_index(drop=True)\n",
    "\n",
    "X_train = encoder.fit_transform(X_train, y_train) # encoding and apply the results of encoding to the training set  \n",
    "\n",
    "X_new = X_new.reset_index(drop=True)\n",
    "y_new = y_new.reset_index(drop=True)\n",
    "X_new = encoder.transform(X_new) # since X_train has been fit and transformed, X_new only needs to be transformed with the mapping of X_train "
   ]
  },
  {
   "cell_type": "code",
   "execution_count": 84,
   "metadata": {},
   "outputs": [
    {
     "name": "stdout",
     "output_type": "stream",
     "text": [
      "acc 0.6571428571428571 training samples num 140\n",
      "acc 0.6933962264150944 training samples num 212\n",
      "acc 0.7137546468401487 training samples num 269\n",
      "acc 0.7351598173515982 training samples num 219\n",
      "acc 0.6829268292682927 training samples num 82\n",
      "acc 0.8283261802575107 training samples num 233\n",
      "acc 0.7839506172839507 training samples num 162\n",
      "acc 0.7266187050359713 training samples num 139\n",
      "acc 0.725 training samples num 240\n",
      "acc 0.8106995884773662 training samples num 243\n",
      "acc 0.7619047619047619 training samples num 168\n",
      "acc 0.6816143497757847 training samples num 223\n",
      "acc 0.7446808510638298 training samples num 282\n",
      "acc 0.9 training samples num 70\n",
      "acc 0.7433155080213903 training samples num 187\n",
      "acc 0.8095238095238095 training samples num 126\n",
      "acc 0.8426395939086294 training samples num 197\n",
      "acc 0.7067307692307693 training samples num 208\n",
      "acc 0.7890295358649789 training samples num 237\n",
      "acc 0.7305194805194806 training samples num 308\n",
      "acc 0.7619047619047619 training samples num 84\n",
      "acc 0.7980769230769231 training samples num 104\n",
      "acc 0.8465608465608465 training samples num 189\n",
      "acc 0.8505747126436781 training samples num 87\n",
      "acc 0.7966101694915254 training samples num 118\n",
      "acc 0.717741935483871 training samples num 124\n",
      "acc 0.7033639143730887 training samples num 327\n",
      "acc 0.7711864406779662 training samples num 118\n",
      "acc 0.746268656716418 training samples num 201\n",
      "acc 0.6296296296296297 training samples num 162\n",
      "acc 0.875 training samples num 96\n",
      "acc 0.7439613526570048 training samples num 207\n",
      "acc 0.8445945945945946 training samples num 148\n",
      "acc 0.838150289017341 training samples num 173\n",
      "acc 0.7767857142857143 training samples num 112\n",
      "acc 0.743801652892562 training samples num 121\n",
      "acc 0.7868852459016393 training samples num 122\n",
      "acc 0.9512195121951219 training samples num 41\n",
      "acc 0.7798165137614679 training samples num 109\n",
      "acc 0.7336065573770492 training samples num 244\n",
      "acc 0.7407407407407407 training samples num 135\n",
      "acc 0.7346153846153847 training samples num 260\n",
      "acc 0.78 training samples num 100\n",
      "acc 0.788135593220339 training samples num 118\n",
      "acc 0.7650602409638554 training samples num 166\n",
      "acc 0.8736842105263158 training samples num 95\n",
      "acc 0.6530612244897959 training samples num 196\n",
      "acc 0.6888888888888889 training samples num 135\n",
      "acc 0.8804347826086957 training samples num 92\n",
      "acc 0.7134146341463414 training samples num 164\n",
      "acc 0.6827956989247311 training samples num 186\n",
      "acc 0.6466666666666666 training samples num 150\n",
      "acc 0.7564102564102564 training samples num 312\n",
      "acc 0.732484076433121 training samples num 157\n",
      "acc 0.7788461538461539 training samples num 104\n",
      "acc 0.7068965517241379 training samples num 174\n",
      "acc 0.688 training samples num 250\n",
      "acc 0.69 training samples num 200\n",
      "acc 0.8333333333333334 training samples num 132\n",
      "acc 0.7910447761194029 training samples num 201\n",
      "acc 0.8090909090909091 training samples num 110\n",
      "acc 0.7211538461538461 training samples num 104\n",
      "acc 0.8171428571428572 training samples num 175\n",
      "acc 0.7202380952380952 training samples num 168\n",
      "acc 0.7562189054726368 training samples num 201\n",
      "acc 0.7364864864864865 training samples num 148\n",
      "acc 0.7738095238095238 training samples num 84\n",
      "acc 0.8723404255319149 training samples num 47\n",
      "acc 0.7474747474747475 training samples num 297\n",
      "acc 0.7857142857142857 training samples num 98\n",
      "acc 0.8027210884353742 training samples num 147\n",
      "acc 0.7637795275590551 training samples num 254\n",
      "acc 0.7722772277227723 training samples num 101\n",
      "acc 0.7322834645669292 training samples num 254\n",
      "acc 1.0 training samples num 34\n",
      "acc 0.7631578947368421 training samples num 152\n",
      "acc 0.8066666666666666 training samples num 150\n",
      "acc 0.8840579710144928 training samples num 69\n",
      "acc 0.7372262773722628 training samples num 137\n",
      "acc 0.8064516129032258 training samples num 62\n",
      "acc 0.8878504672897196 training samples num 107\n",
      "acc 0.8404255319148937 training samples num 94\n",
      "acc 0.8298969072164949 training samples num 194\n",
      "acc 0.7166666666666667 training samples num 240\n",
      "acc 0.7474226804123711 training samples num 194\n",
      "acc 0.8097560975609757 training samples num 205\n",
      "acc 0.8378378378378378 training samples num 74\n",
      "acc 0.8260869565217391 training samples num 115\n",
      "acc 0.7827715355805244 training samples num 267\n",
      "acc 0.7046632124352331 training samples num 193\n",
      "acc 0.8144329896907216 training samples num 97\n",
      "acc 0.8032786885245902 training samples num 122\n",
      "acc 0.7142857142857143 training samples num 168\n",
      "acc 0.7787610619469026 training samples num 113\n",
      "acc 0.6564885496183206 training samples num 262\n",
      "acc 0.680327868852459 training samples num 122\n",
      "acc 0.6974789915966386 training samples num 119\n",
      "acc 0.8909090909090909 training samples num 55\n",
      "acc 0.8188405797101449 training samples num 138\n",
      "acc 0.7588235294117647 training samples num 170\n",
      "Overall: acc 0.75725\n",
      "acc 0.75725\n"
     ]
    }
   ],
   "source": [
    "from sklearn.cluster import KMeans\n",
    "from sklearn.svm import SVC\n",
    "\n",
    "cluster_num = 100\n",
    "\n",
    "clustering = KMeans(n_clusters = 100).fit(X_train)\n",
    "X_train['label'] = clustering.labels_\n",
    "y_train = pd.DataFrame(y_train)\n",
    "y_train['label'] = clustering.labels_\n",
    "\n",
    "labels = clustering.predict(X_new)\n",
    "X_new['label'] = labels\n",
    "y_new = pd.DataFrame(y_new)\n",
    "y_new['label'] = labels\n",
    "\n",
    "\n",
    "\n",
    "X_train_list = []\n",
    "X_new_list = []\n",
    "y_train_list = []\n",
    "y_new_list = []\n",
    "\n",
    "for cluster_no in range(cluster_num):\n",
    "    X_train_list.append(X_train.loc[X_train['label'] == cluster_no].drop('label', axis=1))\n",
    "    X_new_list.append(X_new.loc[X_new['label'] == cluster_no].drop('label', axis=1))\n",
    "    y_train_list.append(y_train.loc[y_train['label'] == cluster_no].drop('label', axis=1))\n",
    "    y_new_list.append(y_new.loc[y_new['label'] == cluster_no].drop('label', axis=1))\n",
    "\n",
    "\n",
    "\n",
    "pred_list = []\n",
    "true_list = []\n",
    "for cluster_no in range(cluster_num):\n",
    "\n",
    "    X_train_0 = X_train_list[cluster_no]\n",
    "    y_train_0 = y_train_list[cluster_no]\n",
    "    X_new_0 = X_new_list[cluster_no]\n",
    "    y_new_0 = y_new_list[cluster_no]\n",
    "    \n",
    "#     clf = SVC(gamma = 'scale')\n",
    "    clf = AdaBoostClassifier()\n",
    "    \n",
    "    clf = clf.fit(X_train_0, y_train_0.values.ravel())\n",
    "\n",
    "    pred = clf.predict(X_train_0)\n",
    "    true = np.array(y_train_0).flatten()\n",
    "\n",
    "    pred_list = pred_list + list(pred)\n",
    "    true_list = true_list + list(true)\n",
    "\n",
    "    print('acc', accuracy_score(true, pred), 'training samples num', len(X_train_0))\n",
    "\n",
    "pred_list = np.array(pred_list)\n",
    "true_list = np.array(true_list)\n",
    "\n",
    "print('Overall:', 'acc', accuracy_score(true_list, pred_list))\n",
    "\n",
    "print('acc', accuracy_score(true_list, pred_list))\n"
   ]
  }
 ],
 "metadata": {
  "kernelspec": {
   "display_name": "Python 3",
   "language": "python",
   "name": "python3"
  },
  "language_info": {
   "codemirror_mode": {
    "name": "ipython",
    "version": 3
   },
   "file_extension": ".py",
   "mimetype": "text/x-python",
   "name": "python",
   "nbconvert_exporter": "python",
   "pygments_lexer": "ipython3",
   "version": "3.6.7"
  }
 },
 "nbformat": 4,
 "nbformat_minor": 2
}
